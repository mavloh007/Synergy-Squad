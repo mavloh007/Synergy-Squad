{
 "cells": [
  {
   "cell_type": "code",
   "execution_count": null,
   "metadata": {
    "colab": {
     "background_save": true
    },
    "id": "5sSlFwcAeMVz"
   },
   "outputs": [],
   "source": [
    "import pandas as pd\n",
    "from sklearn.feature_extraction.text import TfidfVectorizer\n",
    "from sklearn.metrics.pairwise import cosine_similarity\n",
    "from transformers import pipeline\n",
    "import spacy\n",
    "import re"
   ]
  },
  {
   "cell_type": "markdown",
   "metadata": {
    "id": "gXchD3BdeMV1"
   },
   "source": [
    "## Data Inspection"
   ]
  },
  {
   "cell_type": "code",
   "execution_count": null,
   "metadata": {
    "id": "cOURBcqBeMV1"
   },
   "outputs": [],
   "source": [
    "file_path = 'online_retail_II.xlsx'\n",
    "\n",
    "df_1 = pd.read_excel(file_path, sheet_name='Year 2009-2010')\n",
    "df_2 = pd.read_excel(file_path, sheet_name='Year 2010-2011')\n",
    "\n",
    "df = pd.concat([df_1, df_2])"
   ]
  },
  {
   "cell_type": "code",
   "execution_count": null,
   "metadata": {
    "colab": {
     "base_uri": "https://localhost:8080/",
     "height": 206
    },
    "id": "XenZ00l-eMV1",
    "outputId": "6d93b750-b7ab-49d3-f167-7d298bb7fd2b"
   },
   "outputs": [],
   "source": [
    "df.head()"
   ]
  },
  {
   "cell_type": "code",
   "execution_count": null,
   "metadata": {
    "colab": {
     "base_uri": "https://localhost:8080/",
     "height": 560
    },
    "id": "qysXwLQEeMV2",
    "outputId": "e436aaa6-0e2f-434c-f1dc-37d393efecab"
   },
   "outputs": [],
   "source": [
    "df.info()\n",
    "df.describe()"
   ]
  },
  {
   "cell_type": "markdown",
   "metadata": {
    "id": "Zv6dFVSfeMV2"
   },
   "source": [
    "## Data Cleaning"
   ]
  },
  {
   "cell_type": "code",
   "execution_count": null,
   "metadata": {
    "id": "AUAdBPnWeMV2"
   },
   "outputs": [],
   "source": [
    "df1 = df[(df['Price'] > 0) & (df['Quantity'] > 0)]\n",
    "df1 = df1[df1['InvoiceDate'].dt.year != 2009]\n",
    "df1['Date'] = pd.to_datetime(df1['InvoiceDate']).dt.date\n",
    "\n",
    "df1['Invoice'] = df1['Invoice'].astype(str)\n",
    "df1 = df1[df1['Invoice'].str.startswith('C') == False]\n",
    "\n",
    "df1 = df1.dropna(subset=['Description'])\n",
    "df1['Description'] = df1['Description'].astype(str)\n",
    "\n",
    "df1['StockCode'] = df1['StockCode'].astype(str)\n",
    "df1['StockCode'] = df1['StockCode'].apply(str.upper)\n",
    "\n",
    "df1 = df1[(df1['StockCode'].str.len() == 5) | (df1['StockCode'].str.len() == 6)]"
   ]
  },
  {
   "cell_type": "code",
   "execution_count": null,
   "metadata": {
    "colab": {
     "base_uri": "https://localhost:8080/"
    },
    "id": "alkVuXyXeMV3",
    "outputId": "0df26873-d821-4a05-e127-b2ad045b3603"
   },
   "outputs": [],
   "source": [
    "missing_values = df1.isna().sum()\n",
    "print(missing_values)"
   ]
  },
  {
   "cell_type": "code",
   "execution_count": null,
   "metadata": {
    "id": "hQyk56f5eMV3"
   },
   "outputs": [],
   "source": [
    "def remove_symbols(row):\n",
    "    row = re.sub(r'[^a-zA-Z0-9\\s]', ' ', row)\n",
    "    row = ' '.join(row.split())\n",
    "    return row\n",
    "\n",
    "df1['Description'] = df1['Description'].apply(remove_symbols)"
   ]
  },
  {
   "cell_type": "code",
   "execution_count": null,
   "metadata": {
    "id": "NQSV_5AweMV3"
   },
   "outputs": [],
   "source": [
    "df1['Description'] = df1['Description'].str.lower()"
   ]
  },
  {
   "cell_type": "code",
   "execution_count": null,
   "metadata": {
    "colab": {
     "base_uri": "https://localhost:8080/",
     "height": 206
    },
    "id": "xD0QIV9weMV3",
    "outputId": "ab50c308-c120-4764-87bd-bee9368f7922"
   },
   "outputs": [],
   "source": [
    "df1.head()"
   ]
  },
  {
   "cell_type": "code",
   "execution_count": null,
   "metadata": {
    "colab": {
     "base_uri": "https://localhost:8080/"
    },
    "id": "6HEqhhhveMV3",
    "outputId": "65fc3b53-e9a9-4fc0-8094-bad206e4bfc9"
   },
   "outputs": [],
   "source": [
    "df1.info()"
   ]
  },
  {
   "cell_type": "markdown",
   "metadata": {
    "id": "l0ZmHOrqeMV3"
   },
   "source": [
    "## Feature Extraction for Customisable Products"
   ]
  },
  {
   "cell_type": "code",
   "execution_count": null,
   "metadata": {
    "colab": {
     "base_uri": "https://localhost:8080/",
     "height": 223
    },
    "id": "NQOQEG90eMV3",
    "outputId": "d4c126d8-585b-4549-84c0-9e8438453777"
   },
   "outputs": [],
   "source": [
    "products = df1[['StockCode', 'Description']].drop_duplicates()\n",
    "products = products.reset_index(drop=True)\n",
    "print(len(products))\n",
    "products.head()"
   ]
  },
  {
   "cell_type": "code",
   "execution_count": null,
   "metadata": {
    "id": "IZdZ1CcleMV4"
   },
   "outputs": [],
   "source": [
    "vectorizer = TfidfVectorizer(min_df=1)\n",
    "tfidf_matrix = vectorizer.fit_transform(products['Description'])\n",
    "\n",
    "cosine_sim = cosine_similarity(tfidf_matrix)\n",
    "threshold = 0.75\n",
    "\n",
    "products['Customisable'] = False\n",
    "products['Variations'] = ''"
   ]
  },
  {
   "cell_type": "code",
   "execution_count": null,
   "metadata": {
    "id": "6rsuyPSbeMV4"
   },
   "outputs": [],
   "source": [
    "for i, description in enumerate(products['Description']):\n",
    "    similar_indices = [j for j in range(len(products)) if (cosine_sim[i, j] > threshold and i!=j)]\n",
    "    variations = []\n",
    "    for j in similar_indices:\n",
    "        temp = products['Description'].iloc[j]\n",
    "        if (temp not in variations) and description != temp:\n",
    "            variations.append(temp)\n",
    "    if variations:\n",
    "        products.at[i, 'Customisable'] = True\n",
    "        products.at[i, 'Variations'] = variations"
   ]
  },
  {
   "cell_type": "code",
   "execution_count": null,
   "metadata": {
    "colab": {
     "base_uri": "https://localhost:8080/",
     "height": 223
    },
    "id": "R-1lGWlXeMV4",
    "outputId": "e626139e-5471-48d8-f4c3-bc6dc24fcd5c"
   },
   "outputs": [],
   "source": [
    "customisable = products[products['Customisable']].reset_index(drop=True)\n",
    "print(len(customisable))\n",
    "customisable.head()"
   ]
  },
  {
   "cell_type": "code",
   "execution_count": null,
   "metadata": {
    "id": "9Oc_Ik2eeMV4"
   },
   "outputs": [],
   "source": [
    "customisable['Base Product'] = ''\n",
    "\n",
    "for i, description in enumerate(customisable['Description']):\n",
    "    variations = customisable.at[i, 'Variations']\n",
    "    description_words = description.split()\n",
    "    common = set(description_words)\n",
    "    for variation in variations:\n",
    "        variation_words = variation.split()\n",
    "        common = common.intersection(set(variation_words))\n",
    "    customisable.at[i, 'Base Product'] = ' '.join([word for word in description_words if word in common])"
   ]
  },
  {
   "cell_type": "code",
   "execution_count": null,
   "metadata": {
    "colab": {
     "base_uri": "https://localhost:8080/",
     "height": 206
    },
    "id": "Z03bIhhUeMV4",
    "outputId": "0b3bb612-3691-4cc7-800f-4d4b649d63ea"
   },
   "outputs": [],
   "source": [
    "customisable.head()"
   ]
  },
  {
   "cell_type": "markdown",
   "metadata": {
    "id": "8iq6or3beMV4"
   },
   "source": [
    "## Variation Extraction"
   ]
  },
  {
   "cell_type": "code",
   "execution_count": null,
   "metadata": {
    "id": "yyWEK3mbeMV4"
   },
   "outputs": [],
   "source": [
    "nlp = spacy.load(\"en_core_web_sm\")"
   ]
  },
  {
   "cell_type": "code",
   "execution_count": null,
   "metadata": {
    "id": "1ZTC0YpxeMV4"
   },
   "outputs": [],
   "source": [
    "customisable2 = customisable.copy()"
   ]
  },
  {
   "cell_type": "code",
   "execution_count": null,
   "metadata": {
    "id": "c97m43uceMV4"
   },
   "outputs": [],
   "source": [
    "colors = [\n",
    "    \"red\", \"blue\", \"green\", \"yellow\", \"black\", \"white\", \"pink\", \"purple\", \"orange\", \"brown\", \"gray\", \"grey\",\n",
    "    \"beige\", \"tan\", \"maroon\", \"cyan\", \"magenta\", \"crimson\", \"scarlet\", \"burgundy\", \"ruby\", \"rose\", \"wine\",\n",
    "    \"cherry\", \"coral\", \"navy\", \"sky\", \"teal\", \"cobalt\", \"turquoise\", \"azure\", \"sapphire\", \"baby blue\",\n",
    "    \"lime\", \"olive\", \"emerald\", \"mint\", \"sea green\", \"forest\", \"jade\", \"chartreuse\", \"golden\", \"lemon\",\n",
    "    \"mustard\", \"amber\", \"sunflower\", \"canary\", \"jet\", \"charcoal\", \"ebony\", \"onyx\", \"matte black\", \"ink\",\n",
    "    \"ivory\", \"snow\", \"cream\", \"pearl\", \"alabaster\", \"off-white\", \"bone\", \"blush\", \"fuchsia\", \"hot pink\",\n",
    "    \"peach\", \"salmon\", \"bubblegum\", \"lavender\", \"lilac\", \"violet\", \"plum\", \"amethyst\", \"mauve\", \"orchid\",\n",
    "    \"tangerine\", \"apricot\", \"rust\", \"chocolate\", \"coffee\", \"mahogany\", \"chestnut\", \"walnut\", \"bronze\",\n",
    "    \"cocoa\", \"slate\", \"ash\", \"dove\", \"silver\", \"steel\", \"graphite\", \"sand\", \"khaki\", \"taupe\", \"buff\",\n",
    "    \"camel\", \"almond\", \"gold\", \"silver\", \"copper\", \"brass\", \"rose gold\", \"platinum\", \"metallic\",\n",
    "    \"pastel pink\", \"pastel blue\", \"pastel green\", \"pastel yellow\", \"pastel purple\", \"pastel orange\",\n",
    "    \"neon pink\", \"neon green\", \"neon yellow\", \"neon blue\", \"neon orange\", \"terracotta\", \"sage\", \"moss\",\n",
    "    \"umber\", \"ochre\", \"clay\"\n",
    "]\n",
    "\n",
    "materials = [\n",
    "    \"metal\", \"wood\", \"plastic\", \"ceramic\", \"glass\", \"leather\", \"fabric\", \"stone\", \"marble\", \"wool\",\n",
    "    \"cotton\", \"silk\", \"linen\", \"polyester\", \"nylon\", \"acrylic\", \"brass\", \"steel\", \"iron\", \"aluminum\",\n",
    "    \"copper\", \"bronze\", \"bamboo\", \"rubber\", \"porcelain\", \"velvet\", \"suede\", \"lace\", \"canvas\", \"foam\",\n",
    "    \"cardboard\", \"paper\", \"resin\", \"fiber\", \"synthetic\", \"polyurethane\", \"faux leather\", \"stainless steel\",\n",
    "    \"plexiglass\", \"carbon fiber\", \"jute\", \"rattan\", \"hemp\", \"wicker\", \"spandex\", \"microfiber\", \"cashmere\",\n",
    "    \"denim\", \"tweed\", \"charcoal\", \"glass fiber\", \"kevlar\", \"epoxy\", \"latex\", \"mesh\", \"plastic\", \"zinc\"\n",
    "]\n",
    "\n",
    "sizes = [\n",
    "    \"extra small\", \"small\", \"medium\", \"large\", \"extra large\", \"extra extra large\", \"xx-small\",\n",
    "    \"x-small\", \"small\", \"medium\", \"large\", \"x-large\", \"xx-large\", \"xxx-large\",\n",
    "    \"xs\", \"s\", \"m\", \"l\", \"xl\", \"xxl\", \"xxxl\", \"xxxxl\", \"one size\", \"plus size\", \"petite\",\n",
    "    \"tall\", \"regular\", \"slim fit\", \"relaxed fit\", \"oversized\", \"junior\", \"youth\", \"giant\", \"tiny\"\n",
    "    ]\n",
    "\n",
    "festival_themes = [\n",
    "    \"christmas\", \"new year\", \"easter\", \"valentine's day\", \"halloween\", \"thanksgiving\",\n",
    "    \"st. patrick's day\", \"independence day\", \"diwali\", \"hanukkah\", \"ramadan\", \"chinese new year\",\n",
    "    \"mardi gras\", \"day of the dead\", \"oktoberfest\", \"back to school\", \"wedding\", \"birthday\",\n",
    "    \"graduation\", \"anniversary\", \"spring\", \"summer\", \"fall\", \"winter\"\n",
    "]\n",
    "\n",
    "patterns = [\n",
    "    \"stripes\", \"polka dots\", \"floral\", \"paisley\", \"plaid\", \"chevron\", \"herringbone\",\n",
    "    \"geometric\", \"abstract\", \"camouflage\", \"tie-dye\", \"animal print\", \"leopard print\",\n",
    "    \"zebra print\", \"snake print\", \"solid\", \"gradient\", \"marbled\", \"lace\", \"embroidered\",\n",
    "    \"argyle\", \"batik\", \"ikat\", \"patchwork\", \"tartan\", \"watercolor\", \"checkered\",\n",
    "    \"speckled\", \"textured\", \"holographic\", \"monogrammed\", \"embossed\", \"engraved\"\n",
    "]\n",
    "\n",
    "shapes = [\n",
    "    \"round\", \"square\", \"rectangle\", \"oval\", \"triangle\", \"heart-shaped\",\n",
    "    \"star-shaped\", \"hexagonal\", \"pentagonal\", \"circular\", \"cylindrical\",\n",
    "    \"spiral\", \"cube\", \"pyramid\", \"diamond\", \"crescent\", \"cross\", \"arrow\",\n",
    "    \"leaf-shaped\", \"flower-shaped\", \"teardrop\", \"drop-shaped\", \"octagonal\",\n",
    "    \"butterfly-shaped\", \"wave\", \"cloud\", \"moon\", \"sun\", \"snowflake\"\n",
    "]\n",
    "\n",
    "styles = [\n",
    "    \"vintage\", \"bohemian\", \"modern\", \"minimalist\", \"rustic\", \"gothic\", \"retro\",\n",
    "    \"industrial\", \"mid-century modern\", \"art deco\", \"shabby chic\", \"farmhouse\",\n",
    "    \"coastal\", \"nautical\", \"scandinavian\", \"victorian\", \"steampunk\", \"futuristic\",\n",
    "    \"baroque\", \"asian-inspired\", \"mediterranean\", \"southwestern\", \"tropical\",\n",
    "    \"contemporary\", \"urban\", \"eclectic\", \"colonial\", \"beach\", \"tribal\",\n",
    "    \"organic\", \"romantic\", \"classical\", \"luxury\", \"glam\", \"zen\", \"avant-garde\",\n",
    "    \"cyberpunk\", \"art nouveau\", \"country\"\n",
    "]"
   ]
  },
  {
   "cell_type": "code",
   "execution_count": null,
   "metadata": {
    "id": "BNMbpqIveMV5"
   },
   "outputs": [],
   "source": [
    "def extract_variation(description, base_product):\n",
    "    doc = nlp(description)\n",
    "    variation_type = set()\n",
    "    variation_detail = \"\"\n",
    "\n",
    "    description_set = set(description.lower().split())\n",
    "    base_product_set = set(base_product.lower().split())\n",
    "    difference_set = description_set - base_product_set\n",
    "\n",
    "    if not difference_set:\n",
    "        return None, None, 0\n",
    "\n",
    "    for token in doc:\n",
    "        if token.text.lower() in colors:\n",
    "            variation_type.add(\"colour\")\n",
    "            variation_detail += f\"colour: {token.text}, \"\n",
    "            break\n",
    "\n",
    "    for token in doc:\n",
    "        if token.text.lower() in sizes:\n",
    "            variation_type.add(\"size\")\n",
    "            variation_detail += f\"size: {token.text}, \"\n",
    "            break\n",
    "\n",
    "    for token in doc:\n",
    "        if token.text.lower() in materials:\n",
    "            variation_type.add(\"material\")\n",
    "            variation_detail += f\"material: {token.text}, \"\n",
    "            break\n",
    "\n",
    "    for token in doc:\n",
    "        if token.text.lower() in styles:\n",
    "            variation_type.add(\"style\")\n",
    "            variation_detail += f\"style: {token.text}, \"\n",
    "            break\n",
    "\n",
    "    for token in doc:\n",
    "        if token.text.lower() in festival_themes:\n",
    "            variation_type.add(\"festiveTheme\")\n",
    "            variation_detail += f\"festiveTheme: {token.text}, \"\n",
    "            break\n",
    "\n",
    "    for token in doc:\n",
    "        if token.text.lower() in patterns:\n",
    "            variation_type.add(\"pattern\")\n",
    "            variation_detail += f\"pattern: {token.text}, \"\n",
    "            break\n",
    "\n",
    "    for token in doc:\n",
    "        if token.text.lower() in shapes:\n",
    "            variation_type.add(\"shape\")\n",
    "            variation_detail += f\"shape: {token.text}, \"\n",
    "            break\n",
    "\n",
    "\n",
    "    bundle_match = re.search(r'\\b(set of|pack of)\\s?\\d+', description, re.IGNORECASE)\n",
    "    if bundle_match:\n",
    "        variation_type.add(\"bundle\")\n",
    "        variation_detail += f\"bundle: {bundle_match.group()}, \"\n",
    "\n",
    "    difference_set -= set(colors) | set(sizes) | set(materials) | set(styles) | set(festival_themes) | set(patterns) | set(shapes)| set(bundle_match.group().split() if bundle_match else [])\n",
    "    if difference_set:\n",
    "        variation_type.add(\"miscellaneous\")\n",
    "        variation_detail += f\"miscellaneous: {' '.join(difference_set)}\"\n",
    "\n",
    "\n",
    "    customisation_complexity = int(len(variation_type))\n",
    "\n",
    "    variation_type = ', '.join(variation_type) if variation_type else None\n",
    "    variation_detail = variation_detail.strip(', ') if variation_detail else None\n",
    "\n",
    "    return variation_type, variation_detail, customisation_complexity\n",
    "\n",
    "def extract_material(description):\n",
    "    doc = nlp(description)\n",
    "    material = None\n",
    "\n",
    "    for token in doc:\n",
    "        if token.text.lower() in materials:\n",
    "            material = token.text\n",
    "            break\n",
    "\n",
    "    if not material:\n",
    "        material = \"polymer\"\n",
    "\n",
    "    return material"
   ]
  },
  {
   "cell_type": "code",
   "execution_count": null,
   "metadata": {
    "id": "mD8jVp-UeMV5"
   },
   "outputs": [],
   "source": [
    "customisable[['Variation Type', 'Variation Detail', 'Customisation Complexity']] = customisable.apply(lambda x: pd.Series(extract_variation(x['Description'], x['Base Product'])), axis=1)\n",
    "customisable['Material'] = customisable['Description'].apply(extract_material)\n",
    "customisable['Customisation Complexity'] = customisable['Customisation Complexity'].astype(int)"
   ]
  },
  {
   "cell_type": "code",
   "execution_count": null,
   "metadata": {
    "colab": {
     "base_uri": "https://localhost:8080/",
     "height": 1000
    },
    "id": "lRpyUvDEeMV5",
    "outputId": "cdcca4be-7410-46cc-ead9-d52a2e4da0ba"
   },
   "outputs": [],
   "source": [
    "customisable.head(20)"
   ]
  },
  {
   "cell_type": "code",
   "execution_count": null,
   "metadata": {
    "colab": {
     "base_uri": "https://localhost:8080/",
     "height": 1000
    },
    "id": "x_RjDVDGeMV5",
    "outputId": "1bf2a135-bdf7-4e4a-cf6d-a836f0dc8473"
   },
   "outputs": [],
   "source": [
    "customisable.tail(20)"
   ]
  },
  {
   "cell_type": "code",
   "execution_count": null,
   "metadata": {
    "id": "3tUHveW3eMV5"
   },
   "outputs": [],
   "source": [
    "retail = df1.merge(customisable[['StockCode', 'Base Product', 'Variation Type', 'Variation Detail', 'Customisation Complexity', 'Material']], on='StockCode', how='inner')"
   ]
  },
  {
   "cell_type": "code",
   "execution_count": null,
   "metadata": {
    "colab": {
     "base_uri": "https://localhost:8080/",
     "height": 451
    },
    "id": "CxoGDvZiYAum",
    "outputId": "32bb0811-4e1b-46f4-a52a-51f1caa198e3"
   },
   "outputs": [],
   "source": [
    "retail.head()"
   ]
  },
  {
   "cell_type": "code",
   "execution_count": null,
   "metadata": {
    "colab": {
     "base_uri": "https://localhost:8080/"
    },
    "id": "FoWj4n6os8zE",
    "outputId": "e8e18f2c-6295-4656-fce4-9344fce40193"
   },
   "outputs": [],
   "source": [
    "retail.shape"
   ]
  },
  {
   "cell_type": "code",
   "execution_count": null,
   "metadata": {},
   "outputs": [],
   "source": [
    "retail.to_excel(\"cleaned.xlsx\")"
   ]
  }
 ],
 "metadata": {
  "colab": {
   "provenance": []
  },
  "kernelspec": {
   "display_name": "Python 3",
   "language": "python",
   "name": "python3"
  },
  "language_info": {
   "codemirror_mode": {
    "name": "ipython",
    "version": 3
   },
   "file_extension": ".py",
   "mimetype": "text/x-python",
   "name": "python",
   "nbconvert_exporter": "python",
   "pygments_lexer": "ipython3",
   "version": "3.11.4"
  }
 },
 "nbformat": 4,
 "nbformat_minor": 0
}
